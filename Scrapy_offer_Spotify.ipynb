{
 "cells": [
  {
   "cell_type": "code",
   "execution_count": null,
   "id": "aeee90c3",
   "metadata": {},
   "outputs": [
    {
     "name": "stdout",
     "output_type": "stream",
     "text": [
      "La web de  https://www.spotify.com#start-of-contentpremium/  Tiene la Oferta de:   Escuchar lo es todo\n",
      "No tiene más enlaces\n",
      "La web de  https://www.spotify.com/ao-pt/premium/  Tiene la Oferta de:   Obtém o Premium grátis durante 1 mês\n",
      "La web de  https://www.spotify.com/ao-en/premium/  Tiene la Oferta de:   Get Premium free for 1 month\n",
      "La web de  https://www.spotify.com/bf-fr/premium/  Tiene la Oferta de:   Passez à Spotify Premium gratuitement pendant 1 mois\n",
      "La web de  https://www.spotify.com/bf-en/premium/  Tiene la Oferta de:   Get Premium free for 1 month\n",
      "La web de  https://www.spotify.com/bi-fr/premium/  Tiene la Oferta de:   Passez à Spotify Premium gratuitement pendant 1 mois\n",
      "La web de  https://www.spotify.com/bi-en/premium/  Tiene la Oferta de:   Get Premium free for 1 month\n",
      "La web de  https://www.spotify.com/bj-fr/premium/  Tiene la Oferta de:   Passez à Spotify Premium gratuitement pendant 1 mois\n",
      "La web de  https://www.spotify.com/bj-en/premium/  Tiene la Oferta de:   Get Premium free for 1 month\n"
     ]
    }
   ],
   "source": [
    "import urllib\n",
    "import requests\n",
    "from bs4 import BeautifulSoup\n",
    "\n",
    "url = 'https://www.spotify.com/sv/select-your-country-region/'\n",
    "html = urllib.request.urlopen(url)\n",
    "soup = BeautifulSoup(html)\n",
    "\n",
    "\n",
    "tags = soup('a') # Busca en la  sopa las etiquetas con la palabra a\n",
    "#print('Enlaces en la página principal: \\r\\n')\n",
    "#for tag in tags:\n",
    "#    print(tag.contents[0],tag.get('href'))\n",
    "    \n",
    "#print('\\r\\n Enlaces en las páginas secundarias: \\r\\n')\n",
    "    \n",
    "for tag in tags:\n",
    "    newurl = tag.get('href',None)\n",
    "    url_final = 'https://www.spotify.com'+ newurl +'premium/'\n",
    "    #print('* Accediendo a los enlaces dentro de la página: ' + url_final)\n",
    "    try:\n",
    "        if url_final[0:4]=='http': html2 = urllib.request.urlopen(url_final)\n",
    "        else: html2 = urllib.request.urlopen(url_final)\n",
    "        soup2 = BeautifulSoup(html2)\n",
    "        newtags = soup2.find_all('h1')\n",
    "        if len(newtags) > 0:\n",
    "            #print(len(newtags),' enlaces: ',newtags)\n",
    "            for newtag in newtags:\n",
    "                print(\"La web de \" ,url_final, \" Tiene la Oferta de:  \",newtag.contents[0])\n",
    "        else: print('opcion 1')\n",
    "    except:\n",
    "        print('No tiene más enlaces')\n",
    "        \n"
   ]
  },
  {
   "cell_type": "code",
   "execution_count": null,
   "id": "095e201d",
   "metadata": {},
   "outputs": [],
   "source": []
  }
 ],
 "metadata": {
  "kernelspec": {
   "display_name": "Python 3 (ipykernel)",
   "language": "python",
   "name": "python3"
  },
  "language_info": {
   "codemirror_mode": {
    "name": "ipython",
    "version": 3
   },
   "file_extension": ".py",
   "mimetype": "text/x-python",
   "name": "python",
   "nbconvert_exporter": "python",
   "pygments_lexer": "ipython3",
   "version": "3.9.12"
  }
 },
 "nbformat": 4,
 "nbformat_minor": 5
}
