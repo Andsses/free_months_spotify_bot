{
 "cells": [
  {
   "cell_type": "code",
   "execution_count": null,
   "id": "095e201d",
   "metadata": {},
   "outputs": [
    {
     "name": "stdout",
     "output_type": "stream",
     "text": [
      "La web de  https://www.spotify.com#start-of-contentpremium/  Tiene la Oferta de:   Escuchar lo es todo\n",
      "No tiene más enlaces\n",
      "La web de  https://www.spotify.com/ao-pt/premium/  Tiene la Oferta de:   Obtém o Premium grátis durante 1 mês\n",
      "La web de  https://www.spotify.com/ao-en/premium/  Tiene la Oferta de:   Get Premium free for 1 month\n",
      "La web de  https://www.spotify.com/bf-fr/premium/  Tiene la Oferta de:   Passez à Spotify Premium gratuitement pendant 1 mois\n",
      "La web de  https://www.spotify.com/bf-en/premium/  Tiene la Oferta de:   Get Premium free for 1 month\n",
      "La web de  https://www.spotify.com/bi-fr/premium/  Tiene la Oferta de:   Passez à Spotify Premium gratuitement pendant 1 mois\n",
      "La web de  https://www.spotify.com/bi-en/premium/  Tiene la Oferta de:   Get Premium free for 1 month\n",
      "La web de  https://www.spotify.com/bj-fr/premium/  Tiene la Oferta de:   Passez à Spotify Premium gratuitement pendant 1 mois\n",
      "La web de  https://www.spotify.com/bj-en/premium/  Tiene la Oferta de:   Get Premium free for 1 month\n",
      "La web de  https://www.spotify.com/bw/premium/  Tiene la Oferta de:   Get Premium free for 1 month\n",
      "La web de  https://www.spotify.com/cd-sw/premium/  Tiene la Oferta de:   Tumia Premium bila malipo kwa mwezi 1\n",
      "La web de  https://www.spotify.com/cd-fr/premium/  Tiene la Oferta de:   Passez à Premium gratuitement pendant 1 mois\n",
      "La web de  https://www.spotify.com/cg-fr/premium/  Tiene la Oferta de:   Passez à Premium gratuitement pendant 1 mois\n",
      "La web de  https://www.spotify.com/cg-en/premium/  Tiene la Oferta de:   Get Premium free for 1 month\n",
      "La web de  https://www.spotify.com/ci-fr/premium/  Tiene la Oferta de:   Passez à Spotify Premium gratuitement pendant 1 mois\n",
      "La web de  https://www.spotify.com/ci-en/premium/  Tiene la Oferta de:   Get Premium free for 1 month\n",
      "La web de  https://www.spotify.com/cm-fr/premium/  Tiene la Oferta de:   Passez à Spotify Premium gratuitement pendant 1 mois\n",
      "La web de  https://www.spotify.com/cm-en/premium/  Tiene la Oferta de:   Get Premium free for 1 month\n",
      "La web de  https://www.spotify.com/cv-pt/premium/  Tiene la Oferta de:   Obtém o Premium grátis durante 1 mês\n",
      "La web de  https://www.spotify.com/cv-en/premium/  Tiene la Oferta de:   Get Premium free for 1 month\n",
      "La web de  https://www.spotify.com/dj-fr/premium/  Tiene la Oferta de:   Passez à Spotify Premium gratuitement pendant 1 mois\n",
      "La web de  https://www.spotify.com/dj-en/premium/  Tiene la Oferta de:   Get Premium free for 1 month\n",
      "La web de  https://www.spotify.com/dz-fr/premium/  Tiene la Oferta de:   Passez à Spotify Premium gratuitement pendant 1 mois\n",
      "La web de  https://www.spotify.com/dz-ar/premium/  Tiene la Oferta de:   اشترك في Spotify Premium لمدة شهر مجاناً\n",
      "La web de  https://www.spotify.com/eg-ar/premium/  Tiene la Oferta de:   اشترك في Spotify Premium لمدة شهر مجاناً\n",
      "La web de  https://www.spotify.com/eg-ar/premium/  Tiene la Oferta de:   تقديم اشتراك Premium Mini\n",
      "La web de  https://www.spotify.com/eg-en/premium/  Tiene la Oferta de:   Get Premium free for 1 month\n",
      "La web de  https://www.spotify.com/eg-en/premium/  Tiene la Oferta de:   Introducing Premium Mini\n",
      "La web de  https://www.spotify.com/ga-fr/premium/  Tiene la Oferta de:   Passez à Spotify Premium gratuitement pendant 1 mois\n",
      "La web de  https://www.spotify.com/ga-en/premium/  Tiene la Oferta de:   Get Premium free for 1 month\n",
      "La web de  https://www.spotify.com/gh/premium/  Tiene la Oferta de:   Get Premium free for 1 month\n",
      "La web de  https://www.spotify.com/gm/premium/  Tiene la Oferta de:   Get Premium free for 1 month\n",
      "La web de  https://www.spotify.com/gn-fr/premium/  Tiene la Oferta de:   Passez à Spotify Premium gratuitement pendant 1 mois\n",
      "La web de  https://www.spotify.com/gn-en/premium/  Tiene la Oferta de:   Get Premium free for 1 month\n",
      "La web de  https://www.spotify.com/gq-en/premium/  Tiene la Oferta de:   Get Premium free for 1 month\n",
      "La web de  https://www.spotify.com/gq-es/premium/  Tiene la Oferta de:   Obtén Premium gratis por 1 mes\n",
      "La web de  https://www.spotify.com/gw-pt/premium/  Tiene la Oferta de:   Obtém o Premium grátis durante 1 mês\n",
      "La web de  https://www.spotify.com/gw-en/premium/  Tiene la Oferta de:   Get Premium free for 1 month\n",
      "La web de  https://www.spotify.com/ke-en/premium/  Tiene la Oferta de:   Get Premium free for 1 month\n",
      "La web de  https://www.spotify.com/ke-en/premium/  Tiene la Oferta de:   Introducing Premium Mini\n",
      "La web de  https://www.spotify.com/ke-sw/premium/  Tiene la Oferta de:   Tumia Premium bila malipo kwa mwezi 1\n",
      "La web de  https://www.spotify.com/ke-sw/premium/  Tiene la Oferta de:   Tunakuletea Premium Mini\n",
      "La web de  https://www.spotify.com/km-fr/premium/  Tiene la Oferta de:   Passez à Spotify Premium gratuitement pendant 1 mois\n",
      "La web de  https://www.spotify.com/km-en/premium/  Tiene la Oferta de:   Get Premium free for 1 month\n",
      "La web de  https://www.spotify.com/lr/premium/  Tiene la Oferta de:   Get Premium free for 1 month\n"
     ]
    }
   ],
   "source": [
    import urllib
import requests
import time
from bs4 import BeautifulSoup

url = 'https://www.spotify.com/sv/select-your-country-region/' # Abre la url donde entraremos a todas las regione
html = urllib.request.urlopen(url) # abre el navegador y obtiene el html
soup = BeautifulSoup(html) # El html y lo manda Bs4


tags = soup.find_all(class_='Link-k8gsk-0 fuBLVg') # Busca en la  sopa la clase 'Link-k8gsk-0 fuBLVg' 



    
for tag in tags: # usamos un for para hacer multiples peticiones
    newurl = tag.get('href',None) # del tags .get , obtiene los href 
    url_final = 'https://www.spotify.com'+ newurl +'premium/' # arreglamos los hipervinculos y lo conbinamos para forma la nueva url
    time.sleep(0.05)
    try: # mientras haga esto
        if url_final[0:5]=='https': html2 = urllib.request.urlopen(url_final) # si las primeras 5 lebtras de url_final es https entonces hace una nueva navegacion 
        else: html2 = urllib.request.urlopen(url_final) # si no solo habre el navegador de la url nueva y obtiene el html
        soup2 = BeautifulSoup(html2) # el html lo pasamos a bs4 
        newtags = soup2.find_all('h1') #de la sopa buscamos todo lo que tenga h1 en una lista
        
        if len(newtags) > 0: # si el contenido de esta lista es mayor a 0 entra
            for newtag in newtags: # usamos el newtag para imprimir lo que hay en newtags
                print("La web de " ,url_final, " Tiene la Oferta de:  ",newtag.get_text()) # aqui imprime el URL y el TEXT
                time.sleep(0.05)
        else: print('No hay oferta') # no encontro el elemento h1 en el html de la web
    except: # si no lo hace hace esta funcion
         print('No tiene más enlaces') # imprime esto
        
   ]
  },
  {
   "cell_type": "code",
   "execution_count": null,
   "id": "76a22cc0",
   "metadata": {},
   "outputs": [],
   "source": []
  }
 ],
 "metadata": {
  "kernelspec": {
   "display_name": "Python 3 (ipykernel)",
   "language": "python",
   "name": "python3"
  },
  "language_info": {
   "codemirror_mode": {
    "name": "ipython",
    "version": 3
   },
   "file_extension": ".py",
   "mimetype": "text/x-python",
   "name": "python",
   "nbconvert_exporter": "python",
   "pygments_lexer": "ipython3",
   "version": "3.9.12"
  }
 },
 "nbformat": 4,
 "nbformat_minor": 5
}
